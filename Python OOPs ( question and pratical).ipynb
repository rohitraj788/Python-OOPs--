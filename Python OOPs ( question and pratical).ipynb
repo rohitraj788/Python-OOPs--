{
  "cells": [
    {
      "cell_type": "markdown",
      "source": [
        "1. What is Object-Oriented Programming (OOP)?"
      ],
      "metadata": {
        "id": "LWoVV6NA3oc3"
      }
    },
    {
      "cell_type": "markdown",
      "source": [
        "- OOP is a programming paradigm based on the concept of \"objects\", which bundle data and functions. It emphasizes code reusability, modularity, and abstraction using concepts like classes, objects, inheritance, encapsulation, and polymorphism."
      ],
      "metadata": {
        "id": "cdzTDtFe9zs_"
      }
    },
    {
      "cell_type": "markdown",
      "source": [
        "2. What is a class in OOP?"
      ],
      "metadata": {
        "id": "7r7sUQgN459V"
      }
    },
    {
      "cell_type": "markdown",
      "source": [
        "- A class is a blueprint or template for creating objects. It defines attributes (data) and methods (functions) that the created objects will have."
      ],
      "metadata": {
        "id": "etGw-w1j9tEA"
      }
    },
    {
      "cell_type": "code",
      "source": [
        "class Car:\n",
        "    def drive(self):\n",
        "        print(\"Car is driving\")\n"
      ],
      "metadata": {
        "id": "P8Vp3Xet9xOJ"
      },
      "execution_count": 17,
      "outputs": []
    },
    {
      "cell_type": "markdown",
      "source": [
        "3. What is an object in OOP?"
      ],
      "metadata": {
        "id": "vqZH_Miq4-hy"
      }
    },
    {
      "cell_type": "markdown",
      "source": [
        "- An object is an instance of a class. It represents a real-world entity that has both data (attributes) and behavior (methods).\n",
        "\n",
        "- Think of a class as a blueprint, and an object as a real-world item built from that blueprint."
      ],
      "metadata": {
        "id": "mRSf8fGS-Vh-"
      }
    },
    {
      "cell_type": "code",
      "source": [
        "class Car:\n",
        "    def __init__(self, brand, color):\n",
        "        self.brand = brand\n",
        "        self.color = color\n",
        "\n",
        "    def drive(self):\n",
        "        print(f\"The {self.color} {self.brand} car is driving.\")\n",
        "\n",
        "# Creating objects from the Car class\n",
        "car1 = Car(\"Toyota\", \"Red\")\n",
        "car2 = Car(\"Honda\", \"Blue\")\n",
        "\n",
        "# Using the objects\n",
        "car1.drive()  # Output: The Red Toyota car is driving.\n",
        "car2.drive()  # Output: The Blue Honda car is driving.\n"
      ],
      "metadata": {
        "colab": {
          "base_uri": "https://localhost:8080/"
        },
        "id": "Myxm0nZ4-Yj0",
        "outputId": "f8b3b592-99dc-4ace-eede-846a8fee1476"
      },
      "execution_count": 18,
      "outputs": [
        {
          "output_type": "stream",
          "name": "stdout",
          "text": [
            "The Red Toyota car is driving.\n",
            "The Blue Honda car is driving.\n"
          ]
        }
      ]
    },
    {
      "cell_type": "markdown",
      "source": [
        "4. What is the difference between abstraction and encapsulation?"
      ],
      "metadata": {
        "id": "qX_7cPtY5BYO"
      }
    },
    {
      "cell_type": "markdown",
      "source": [
        "- Abstraction hides complexity by showing only essential features.\n",
        "\n",
        "- Encapsulation wraps data and methods together and hides internal state."
      ],
      "metadata": {
        "id": "vCExiCZF9aOc"
      }
    },
    {
      "cell_type": "markdown",
      "source": [
        "5. What are dunder methods in Python?"
      ],
      "metadata": {
        "id": "vCE28h475Iej"
      }
    },
    {
      "cell_type": "markdown",
      "source": [
        "- \"Dunder\" (double underscore) methods are special methods like __init__, __str__, __repr__, etc., that allow classes to interact with built-in Python features."
      ],
      "metadata": {
        "id": "NtseAur79WxI"
      }
    },
    {
      "cell_type": "markdown",
      "source": [
        "6. Explain the concept of inheritance in OOP."
      ],
      "metadata": {
        "id": "gSlIzr_b5Lcb"
      }
    },
    {
      "cell_type": "markdown",
      "source": [
        "- Inheritance allows one class (child) to acquire properties and methods of another (parent), promoting code reuse."
      ],
      "metadata": {
        "id": "qh92j2JN9QLt"
      }
    },
    {
      "cell_type": "code",
      "source": [
        "class Animal:\n",
        "    def speak(self):\n",
        "        print(\"Animal speaks\")\n",
        "\n",
        "class Dog(Animal):\n",
        "    def bark(self):\n",
        "        print(\"Dog barks\")\n"
      ],
      "metadata": {
        "id": "Ya6KDL5v9UOG"
      },
      "execution_count": 15,
      "outputs": []
    },
    {
      "cell_type": "markdown",
      "source": [
        "7. What is polymorphism in OOP?"
      ],
      "metadata": {
        "id": "B1bN5FGe5NmE"
      }
    },
    {
      "cell_type": "markdown",
      "source": [
        "- Polymorphism means \"many forms\". It allows methods to behave differently depending on the object calling them."
      ],
      "metadata": {
        "id": "3uQbjJrf9Mkn"
      }
    },
    {
      "cell_type": "markdown",
      "source": [
        "8. How is encapsulation achieved in Python?"
      ],
      "metadata": {
        "id": "cxyGBRWl5Pxx"
      }
    },
    {
      "cell_type": "markdown",
      "source": [
        "- By using private variables (with _ or __) and providing getters/setters."
      ],
      "metadata": {
        "id": "geUDhLyk9BPM"
      }
    },
    {
      "cell_type": "code",
      "source": [
        "class Person:\n",
        "    def __init__(self):\n",
        "        self.__name = \"John\"\n",
        "\n",
        "    def get_name(self):\n",
        "        return self.__name\n"
      ],
      "metadata": {
        "id": "TmbPE4Od9HqW"
      },
      "execution_count": 14,
      "outputs": []
    },
    {
      "cell_type": "markdown",
      "source": [
        "9. What is a constructor in Python?"
      ],
      "metadata": {
        "id": "1-UDX3s35SKk"
      }
    },
    {
      "cell_type": "markdown",
      "source": [
        "- The __init__ method is a constructor that runs when an object is created."
      ],
      "metadata": {
        "id": "HOvRUpKe83st"
      }
    },
    {
      "cell_type": "code",
      "source": [
        "class Student:\n",
        "    def __init__(self, name):\n",
        "        self.name = name\n"
      ],
      "metadata": {
        "id": "wDCD_jgL8_X3"
      },
      "execution_count": 13,
      "outputs": []
    },
    {
      "cell_type": "markdown",
      "source": [
        "10. What are class and static methods in Python?"
      ],
      "metadata": {
        "id": "6zD-msiy5UP5"
      }
    },
    {
      "cell_type": "markdown",
      "source": [
        "- @classmethod: takes cls as the first argument and can access class variables.\n",
        "\n",
        "- @staticmethod: doesn’t take self or cls."
      ],
      "metadata": {
        "id": "FQbVkT7U8nYO"
      }
    },
    {
      "cell_type": "code",
      "source": [
        "class Example:\n",
        "    count = 0\n",
        "\n",
        "    @classmethod\n",
        "    def increment(cls):\n",
        "        cls.count += 1\n",
        "\n",
        "    @staticmethod\n",
        "    def greet():\n",
        "        print(\"Hello\")\n"
      ],
      "metadata": {
        "id": "sL7OsZOe84ui"
      },
      "execution_count": 12,
      "outputs": []
    },
    {
      "cell_type": "markdown",
      "source": [
        "11. What is method overloading in Python?"
      ],
      "metadata": {
        "id": "gtNfKMAR5XUe"
      }
    },
    {
      "cell_type": "markdown",
      "source": [
        "- Python doesn't support traditional overloading. Instead, you use default arguments or variable-length args."
      ],
      "metadata": {
        "id": "UuwdRGrJ8m6v"
      }
    },
    {
      "cell_type": "code",
      "source": [
        "def greet(name=None):\n",
        "    if name:\n",
        "        print(\"Hello\", name)\n",
        "    else:\n",
        "        print(\"Hello\")\n"
      ],
      "metadata": {
        "id": "vwosCXjE8uT4"
      },
      "execution_count": 11,
      "outputs": []
    },
    {
      "cell_type": "markdown",
      "source": [
        "12. What is method overriding in OOP?"
      ],
      "metadata": {
        "id": "or03IWBq5ZoT"
      }
    },
    {
      "cell_type": "markdown",
      "source": [
        "- When a child class provides its own version of a method inherited from a parent."
      ],
      "metadata": {
        "id": "sJyhvtYT8Et4"
      }
    },
    {
      "cell_type": "markdown",
      "source": [
        "13. What is a property decorator in Python?"
      ],
      "metadata": {
        "id": "sPajXMDK5cTS"
      }
    },
    {
      "cell_type": "markdown",
      "source": [
        "- @property is used to define getter methods that can be accessed like attributes."
      ],
      "metadata": {
        "id": "6KxE9c7t8D1q"
      }
    },
    {
      "cell_type": "code",
      "source": [
        "class Circle:\n",
        "    def __init__(self, radius):\n",
        "        self._radius = radius\n",
        "\n",
        "    @property\n",
        "    def area(self):\n",
        "        return 3.14 * self._radius ** 2\n"
      ],
      "metadata": {
        "id": "Gej7BYON8fwv"
      },
      "execution_count": 10,
      "outputs": []
    },
    {
      "cell_type": "markdown",
      "source": [
        "14. Why is polymorphism important in OOP?"
      ],
      "metadata": {
        "id": "cRyV4LY-5eGw"
      }
    },
    {
      "cell_type": "markdown",
      "source": [
        "- It allows flexibility and the same interface to be used with different types (e.g., different subclasses)."
      ],
      "metadata": {
        "id": "nz8fT0yJ8DRj"
      }
    },
    {
      "cell_type": "markdown",
      "source": [
        "15. What is an abstract class in Python?"
      ],
      "metadata": {
        "id": "oRcjIlbB5hV1"
      }
    },
    {
      "cell_type": "markdown",
      "source": [
        "- A class that cannot be instantiated directly and may have abstract methods (using abc module)."
      ],
      "metadata": {
        "id": "6OYpfc9E8CyX"
      }
    },
    {
      "cell_type": "code",
      "source": [
        "from abc import ABC, abstractmethod\n",
        "\n",
        "class Shape(ABC):\n",
        "    @abstractmethod\n",
        "    def area(self):\n",
        "        pass\n"
      ],
      "metadata": {
        "id": "w5Ae7U7b8SwW"
      },
      "execution_count": 9,
      "outputs": []
    },
    {
      "cell_type": "markdown",
      "source": [
        "16. What are the advantages of OOP?"
      ],
      "metadata": {
        "id": "8OCwZlF75kD_"
      }
    },
    {
      "cell_type": "markdown",
      "source": [
        "- Code reusability\n",
        "\n",
        "- Modularity\n",
        "\n",
        "- Scalability\n",
        "\n",
        "- Abstraction and encapsulation\n",
        "\n",
        "- Easier debugging and maintenance"
      ],
      "metadata": {
        "id": "B8fQqRj28B0P"
      }
    },
    {
      "cell_type": "markdown",
      "source": [
        "17. What is the difference between a class variable and an instance variable?"
      ],
      "metadata": {
        "id": "8p02ev4m5mqq"
      }
    },
    {
      "cell_type": "markdown",
      "source": [],
      "metadata": {
        "id": "8AHKdWW18A88"
      }
    },
    {
      "cell_type": "markdown",
      "source": [
        "18. What is multiple inheritance in Python?"
      ],
      "metadata": {
        "id": "ZocdATcg5o8m"
      }
    },
    {
      "cell_type": "markdown",
      "source": [
        "- Class variable: shared among all instances.\n",
        "\n",
        "- Instance variable: unique to each object."
      ],
      "metadata": {
        "id": "2N636Aao79Er"
      }
    },
    {
      "cell_type": "markdown",
      "source": [
        "- A class inheriting from more than one parent class."
      ],
      "metadata": {
        "id": "bgnQBiY3718H"
      }
    },
    {
      "cell_type": "code",
      "source": [
        "class A: pass\n",
        "class B: pass\n",
        "class C(A, B): pass\n"
      ],
      "metadata": {
        "id": "m_aFtkY376DM"
      },
      "execution_count": 8,
      "outputs": []
    },
    {
      "cell_type": "markdown",
      "source": [
        "19. Explain the purpose of __str__ and __repr__ methods in Python."
      ],
      "metadata": {
        "id": "LAP-Ns_c5rKy"
      }
    },
    {
      "cell_type": "markdown",
      "source": [
        "- __str__: returns user-friendly string (print() output).\n",
        "\n",
        "- __repr__: returns developer-friendly string (used in debugging)"
      ],
      "metadata": {
        "id": "3PrRlRum7wYl"
      }
    },
    {
      "cell_type": "markdown",
      "source": [
        "20. What is the significance of the super() function in Python?"
      ],
      "metadata": {
        "id": "l9tPagq65trl"
      }
    },
    {
      "cell_type": "markdown",
      "source": [
        "- super() calls the parent class's methods, useful in method overriding or multiple inheritance.\n",
        "- The super() function is used to call a method from a parent (super) class in a child (subclass). It is mostly used in inheritance when the child class wants to extend or override the behavior of the parent class but still reuse some part of the parent class.\n",
        "\n",
        "Purpose:\n",
        "- Avoid rewriting code.\n",
        "\n",
        "- Ensure that the parent's constructor or method is properly initialized/executed.\n",
        "\n",
        "- Useful in multiple inheritance or cooperative multiple dispatch (advanced)."
      ],
      "metadata": {
        "id": "G-7TnGyZ7NST"
      }
    },
    {
      "cell_type": "code",
      "source": [
        "class Animal:\n",
        "    def __init__(self, name):\n",
        "        print(\"Animal constructor called\")\n",
        "        self.name = name\n",
        "\n",
        "class Dog(Animal):\n",
        "    def __init__(self, name, breed):\n",
        "        super().__init__(name)  # Calls the parent (Animal) constructor\n",
        "        self.breed = breed\n",
        "        print(\"Dog constructor called\")\n",
        "\n",
        "d = Dog(\"Buddy\", \"Labrador\")\n"
      ],
      "metadata": {
        "colab": {
          "base_uri": "https://localhost:8080/"
        },
        "id": "bkvaXRPa-5Ea",
        "outputId": "32136ea1-f7e0-4151-f773-951cf03be1b1"
      },
      "execution_count": 19,
      "outputs": [
        {
          "output_type": "stream",
          "name": "stdout",
          "text": [
            "Animal constructor called\n",
            "Dog constructor called\n"
          ]
        }
      ]
    },
    {
      "cell_type": "markdown",
      "source": [
        "21. What is the significance of the __del__ method in Python?"
      ],
      "metadata": {
        "id": "bz_bCKq45w4m"
      }
    },
    {
      "cell_type": "markdown",
      "source": [
        "- The __del__ method in Python is a destructor method. It is called automatically when an object is about to be destroyed, i.e., when it is garbage collected (usually when there are no more references to the object).\n",
        " Purpose of __del__:\n",
        "- Used to clean up resources like files, network connections, or database links when an object is deleted.\n",
        "\n",
        "- It's similar to a destructor in languages like C++."
      ],
      "metadata": {
        "id": "ZiC7iaM--imV"
      }
    },
    {
      "cell_type": "code",
      "source": [
        "class FileHandler:\n",
        "    def __init__(self, filename):\n",
        "        self.filename = filename\n",
        "        self.file = open(filename, 'w')\n",
        "        print(f\"File '{filename}' opened.\")\n",
        "\n",
        "    def write_data(self, data):\n",
        "        self.file.write(data)\n",
        "\n",
        "    def __del__(self):\n",
        "        self.file.close()\n",
        "        print(f\"File '{self.filename}' closed.\")\n",
        "\n",
        "handler = FileHandler(\"example.txt\")\n",
        "handler.write_data(\"Hello, world!\")\n",
        "del handler  # __del__ gets called here\n"
      ],
      "metadata": {
        "colab": {
          "base_uri": "https://localhost:8080/"
        },
        "id": "ffydc3Yf_QOx",
        "outputId": "3effb3b9-258a-4518-d533-087e68ade3e8"
      },
      "execution_count": 20,
      "outputs": [
        {
          "output_type": "stream",
          "name": "stdout",
          "text": [
            "File 'example.txt' opened.\n",
            "File 'example.txt' closed.\n"
          ]
        }
      ]
    },
    {
      "cell_type": "markdown",
      "source": [
        "22. What is the difference between @staticmethod and @classmethod in Python?"
      ],
      "metadata": {
        "id": "IP8OOhLj50GK"
      }
    },
    {
      "cell_type": "markdown",
      "source": [
        "- @staticmethod: no access to class or instance.\n",
        "\n",
        "- @classmethod: can modify class state and access class variables.\n",
        "\n"
      ],
      "metadata": {
        "id": "Jbv_QEBT7FFw"
      }
    },
    {
      "cell_type": "markdown",
      "source": [
        "23. How does polymorphism work in Python with inheritance?"
      ],
      "metadata": {
        "id": "D9zYTFem53zg"
      }
    },
    {
      "cell_type": "markdown",
      "source": [
        "- Through method overriding:"
      ],
      "metadata": {
        "id": "GLANaJJs6oM4"
      }
    },
    {
      "cell_type": "code",
      "source": [
        "class Bird:\n",
        "    def speak(self): print(\"Chirp\")\n",
        "\n",
        "class Parrot(Bird):\n",
        "    def speak(self): print(\"Squawk\")\n",
        "\n",
        "def call_speak(bird):\n",
        "    bird.speak()\n"
      ],
      "metadata": {
        "id": "4PjOArxH7AUm"
      },
      "execution_count": 5,
      "outputs": []
    },
    {
      "cell_type": "markdown",
      "source": [
        "24. What is method chaining in Python OOP?"
      ],
      "metadata": {
        "id": "Lg11grF056i4"
      }
    },
    {
      "cell_type": "markdown",
      "source": [
        "-  Calling multiple methods on the same object in a single line by returning self."
      ],
      "metadata": {
        "id": "q3VyeSCZ6bic"
      }
    },
    {
      "cell_type": "code",
      "source": [
        "class Person:\n",
        "    def set_name(self, name):\n",
        "        self.name = name\n",
        "        return self\n",
        "\n",
        "    def greet(self):\n",
        "        print(\"Hello\", self.name)\n",
        "        return self\n",
        "\n",
        "p = Person().set_name(\"Rohit\").greet()\n"
      ],
      "metadata": {
        "colab": {
          "base_uri": "https://localhost:8080/"
        },
        "id": "01vx87ox6wYI",
        "outputId": "7528452f-6f3c-4a27-80a8-bf3a1dad30a7"
      },
      "execution_count": 3,
      "outputs": [
        {
          "output_type": "stream",
          "name": "stdout",
          "text": [
            "Hello Rohit\n"
          ]
        }
      ]
    },
    {
      "cell_type": "markdown",
      "source": [
        "25. What is the purpose of the __call__ method in Python?\n"
      ],
      "metadata": {
        "id": "cU37ie5659Pk"
      }
    },
    {
      "cell_type": "markdown",
      "source": [
        "-  Makes an object callable like a function."
      ],
      "metadata": {
        "id": "zOe27Wzz6DO8"
      }
    },
    {
      "cell_type": "code",
      "source": [
        "class Greet:\n",
        "    def __call__(self, name):\n",
        "        print(f\"Hello, {name}\")\n",
        "\n",
        "g = Greet()\n",
        "g(\"Rohit\")\n"
      ],
      "metadata": {
        "colab": {
          "base_uri": "https://localhost:8080/"
        },
        "id": "9-ldJQfn6RYR",
        "outputId": "2fa6f618-d937-4ff4-8571-5f2cf54ac6b6"
      },
      "execution_count": 38,
      "outputs": [
        {
          "output_type": "stream",
          "name": "stdout",
          "text": [
            "Hello, Rohit\n"
          ]
        }
      ]
    },
    {
      "cell_type": "markdown",
      "source": [
        "**Practical Questions**"
      ],
      "metadata": {
        "id": "VNEmRli4_UBY"
      }
    },
    {
      "cell_type": "markdown",
      "source": [
        "1. Create a parent class Animal with a method speak() that prints a generic message. Create a child class Dog\n",
        "that overrides the speak() method to print \"Bark!\"."
      ],
      "metadata": {
        "id": "-yKY68bl_av8"
      }
    },
    {
      "cell_type": "code",
      "source": [
        "class Animal:\n",
        "    def speak(self):\n",
        "        print(\"Animal speaks...\")\n",
        "\n",
        "class Dog(Animal):\n",
        "    def speak(self):\n",
        "        print(\"Bark!\")\n",
        "\n",
        "d = Dog()\n",
        "d.speak()\n"
      ],
      "metadata": {
        "colab": {
          "base_uri": "https://localhost:8080/"
        },
        "id": "tHO-YgfiA9i_",
        "outputId": "dc096a5e-400f-450e-c5cf-e41db580e34d"
      },
      "execution_count": 37,
      "outputs": [
        {
          "output_type": "stream",
          "name": "stdout",
          "text": [
            "Bark!\n"
          ]
        }
      ]
    },
    {
      "cell_type": "markdown",
      "source": [
        "2. Write a program to create an abstract class Shape with a method area(). Derive classes Circle and Rectangle\n",
        "from it and implement the area() method in both."
      ],
      "metadata": {
        "id": "WRmyv7rR_3wH"
      }
    },
    {
      "cell_type": "code",
      "source": [
        "from abc import ABC, abstractmethod\n",
        "\n",
        "class Shape(ABC):\n",
        "    @abstractmethod\n",
        "    def area(self):\n",
        "        pass\n",
        "\n",
        "class Circle(Shape):\n",
        "    def __init__(self, radius):\n",
        "        self.radius = radius\n",
        "\n",
        "    def area(self):\n",
        "        return 3.14 * self.radius ** 2\n",
        "\n",
        "class Rectangle(Shape):\n",
        "    def __init__(self, width, height):\n",
        "        self.width = width\n",
        "        self.height = height\n",
        "\n",
        "    def area(self):\n",
        "        return self.width * self.height\n",
        "\n",
        "c = Circle(5)\n",
        "r = Rectangle(4, 6)\n",
        "print(c.area())\n",
        "print(r.area())\n"
      ],
      "metadata": {
        "colab": {
          "base_uri": "https://localhost:8080/"
        },
        "id": "SkQ7fEmEA9-0",
        "outputId": "0aaa03d8-ad33-4e47-c7bd-eca5cac84fa7"
      },
      "execution_count": 36,
      "outputs": [
        {
          "output_type": "stream",
          "name": "stdout",
          "text": [
            "78.5\n",
            "24\n"
          ]
        }
      ]
    },
    {
      "cell_type": "markdown",
      "source": [
        "3. Implement a multi-level inheritance scenario where a class Vehicle has an attribute type. Derive a class Car\n",
        "and further derive a class ElectricCar that adds a battery attribute."
      ],
      "metadata": {
        "id": "2N33SacZ_59N"
      }
    },
    {
      "cell_type": "code",
      "source": [
        "class Vehicle:\n",
        "    def __init__(self, type):\n",
        "        self.type = type\n",
        "\n",
        "class Car(Vehicle):\n",
        "    def __init__(self, type, brand):\n",
        "        super().__init__(type)\n",
        "        self.brand = brand\n",
        "\n",
        "class ElectricCar(Car):\n",
        "    def __init__(self, type, brand, battery):\n",
        "        super().__init__(type, brand)\n",
        "        self.battery = battery\n",
        "\n",
        "e = ElectricCar(\"Electric\", \"Tesla\", \"100 kWh\")\n",
        "print(e.type, e.brand, e.battery)\n"
      ],
      "metadata": {
        "colab": {
          "base_uri": "https://localhost:8080/"
        },
        "id": "x6flGH92A-yp",
        "outputId": "cb0bbd5e-f05e-40b3-970a-0898710ec6cc"
      },
      "execution_count": 35,
      "outputs": [
        {
          "output_type": "stream",
          "name": "stdout",
          "text": [
            "Electric Tesla 100 kWh\n"
          ]
        }
      ]
    },
    {
      "cell_type": "markdown",
      "source": [
        "4. Demonstrate polymorphism by creating a base class Bird with a method fly(). Create two derived classes\n",
        "Sparrow and Penguin that override the fly() method."
      ],
      "metadata": {
        "id": "fbkwrL2w_74p"
      }
    },
    {
      "cell_type": "code",
      "source": [
        "class Bird:\n",
        "    def fly(self):\n",
        "        print(\"Bird is flying\")\n",
        "\n",
        "class Sparrow(Bird):\n",
        "    def fly(self):\n",
        "        print(\"Sparrow flies high\")\n",
        "\n",
        "class Penguin(Bird):\n",
        "    def fly(self):\n",
        "        print(\"Penguins can't fly\")\n",
        "\n",
        "for bird in [Sparrow(), Penguin()]:\n",
        "    bird.fly()\n"
      ],
      "metadata": {
        "colab": {
          "base_uri": "https://localhost:8080/"
        },
        "id": "sCQKnxDZA_8s",
        "outputId": "10995ddf-fc3d-4bfe-d3fb-6c56d92ecb45"
      },
      "execution_count": 34,
      "outputs": [
        {
          "output_type": "stream",
          "name": "stdout",
          "text": [
            "Sparrow flies high\n",
            "Penguins can't fly\n"
          ]
        }
      ]
    },
    {
      "cell_type": "markdown",
      "source": [
        "5. Write a program to demonstrate encapsulation by creating a class BankAccount with private attributes\n",
        "balance and methods to deposit, withdraw, and check balance."
      ],
      "metadata": {
        "id": "Hw4gQ5C0__pk"
      }
    },
    {
      "cell_type": "code",
      "source": [
        "class BankAccount:\n",
        "    def __init__(self, balance=0):\n",
        "        self.__balance = balance\n",
        "\n",
        "    def deposit(self, amount):\n",
        "        self.__balance += amount\n",
        "\n",
        "    def withdraw(self, amount):\n",
        "        if amount <= self.__balance:\n",
        "            self.__balance -= amount\n",
        "        else:\n",
        "            print(\"Insufficient funds\")\n",
        "\n",
        "    def get_balance(self):\n",
        "        return self.__balance\n",
        "\n",
        "acc = BankAccount()\n",
        "acc.deposit(500)\n",
        "acc.withdraw(200)\n",
        "print(acc.get_balance())\n"
      ],
      "metadata": {
        "colab": {
          "base_uri": "https://localhost:8080/"
        },
        "id": "11o-CnLFA_fA",
        "outputId": "1ad6cb5a-1f32-4834-9cae-5c8cfe1f6822"
      },
      "execution_count": 33,
      "outputs": [
        {
          "output_type": "stream",
          "name": "stdout",
          "text": [
            "300\n"
          ]
        }
      ]
    },
    {
      "cell_type": "markdown",
      "source": [
        "6. Demonstrate runtime polymorphism using a method play() in a base class Instrument. Derive classes Guitar\n",
        "and Piano that implement their own version of play()."
      ],
      "metadata": {
        "id": "ZY2fXRadAJEr"
      }
    },
    {
      "cell_type": "code",
      "source": [
        "class Instrument:\n",
        "    def play(self):\n",
        "        print(\"Playing an instrument\")\n",
        "\n",
        "class Guitar(Instrument):\n",
        "    def play(self):\n",
        "        print(\"Strumming the guitar\")\n",
        "\n",
        "class Piano(Instrument):\n",
        "    def play(self):\n",
        "        print(\"Playing the piano\")\n",
        "\n",
        "for inst in [Guitar(), Piano()]:\n",
        "    inst.play()\n"
      ],
      "metadata": {
        "colab": {
          "base_uri": "https://localhost:8080/"
        },
        "id": "mfcng5DsBAmG",
        "outputId": "ab961644-fdc2-4e65-d638-85f96acbb522"
      },
      "execution_count": 32,
      "outputs": [
        {
          "output_type": "stream",
          "name": "stdout",
          "text": [
            "Strumming the guitar\n",
            "Playing the piano\n"
          ]
        }
      ]
    },
    {
      "cell_type": "markdown",
      "source": [
        "7. Create a class MathOperations with a class method add_numbers() to add two numbers and a static\n",
        "method subtract_numbers() to subtract two numbers."
      ],
      "metadata": {
        "id": "ZkjNDAioANH-"
      }
    },
    {
      "cell_type": "code",
      "source": [
        "class MathOperations:\n",
        "    @classmethod\n",
        "    def add_numbers(cls, a, b):\n",
        "        return a + b\n",
        "\n",
        "    @staticmethod\n",
        "    def subtract_numbers(a, b):\n",
        "        return a - b\n",
        "\n",
        "print(MathOperations.add_numbers(10, 5))\n",
        "print(MathOperations.subtract_numbers(10, 5))\n"
      ],
      "metadata": {
        "colab": {
          "base_uri": "https://localhost:8080/"
        },
        "id": "X11Hp7UTBBUq",
        "outputId": "76710269-c952-48a3-ad19-7e5107548c5b"
      },
      "execution_count": 31,
      "outputs": [
        {
          "output_type": "stream",
          "name": "stdout",
          "text": [
            "15\n",
            "5\n"
          ]
        }
      ]
    },
    {
      "cell_type": "markdown",
      "source": [
        "8. Implement a class Person with a class method to count the total number of persons created."
      ],
      "metadata": {
        "id": "9wQA2Fn5AQk4"
      }
    },
    {
      "cell_type": "code",
      "source": [
        "class Person:\n",
        "    count = 0\n",
        "\n",
        "    def __init__(self, name):\n",
        "        self.name = name\n",
        "        Person.count += 1\n",
        "\n",
        "    @classmethod\n",
        "    def total_persons(cls):\n",
        "        return cls.count\n",
        "\n",
        "p1 = Person(\"Alice\")\n",
        "p2 = Person(\"Bob\")\n",
        "print(Person.total_persons())\n"
      ],
      "metadata": {
        "id": "aBFKTgIPBBze"
      },
      "execution_count": null,
      "outputs": []
    },
    {
      "cell_type": "markdown",
      "source": [
        "9. Write a class Fraction with attributes numerator and denominator. Override the str method to display the\n",
        "fraction as \"numerator/denominator\""
      ],
      "metadata": {
        "id": "bZ-e_ThQAUaV"
      }
    },
    {
      "cell_type": "code",
      "source": [
        "class Fraction:\n",
        "    def __init__(self, numerator, denominator):\n",
        "        self.numerator = numerator\n",
        "        self.denominator = denominator\n",
        "\n",
        "    def __str__(self):\n",
        "        return f\"{self.numerator}/{self.denominator}\"\n",
        "\n",
        "f = Fraction(3, 4)\n",
        "print(f)\n"
      ],
      "metadata": {
        "colab": {
          "base_uri": "https://localhost:8080/"
        },
        "id": "r-BEiTD_BCje",
        "outputId": "2927ab15-8f85-466a-ec42-bc2b73251173"
      },
      "execution_count": 30,
      "outputs": [
        {
          "output_type": "stream",
          "name": "stdout",
          "text": [
            "3/4\n"
          ]
        }
      ]
    },
    {
      "cell_type": "markdown",
      "source": [
        "10. Demonstrate operator overloading by creating a class Vector and overriding the add method to add two\n",
        "vectors."
      ],
      "metadata": {
        "id": "K9Se3nZvAWOu"
      }
    },
    {
      "cell_type": "code",
      "source": [
        "class Vector:\n",
        "    def __init__(self, x, y):\n",
        "        self.x = x\n",
        "        self.y = y\n",
        "\n",
        "    def __add__(self, other):\n",
        "        return Vector(self.x + other.x, self.y + other.y)\n",
        "\n",
        "    def __str__(self):\n",
        "        return f\"({self.x}, {self.y})\"\n",
        "\n",
        "v1 = Vector(1, 2)\n",
        "v2 = Vector(3, 4)\n",
        "print(v1 + v2)\n"
      ],
      "metadata": {
        "colab": {
          "base_uri": "https://localhost:8080/"
        },
        "id": "HLvO5LDEBDEB",
        "outputId": "92d594b9-d8d0-4a6a-d71c-4fb5ad1dcb53"
      },
      "execution_count": 29,
      "outputs": [
        {
          "output_type": "stream",
          "name": "stdout",
          "text": [
            "(4, 6)\n"
          ]
        }
      ]
    },
    {
      "cell_type": "markdown",
      "source": [
        "11. Create a class Person with attributes name and age. Add a method greet() that prints \"Hello, my name is\n",
        "{name} and I am {age} years old.\""
      ],
      "metadata": {
        "id": "CqAbCYZEAYB4"
      }
    },
    {
      "cell_type": "code",
      "source": [
        "class Person:\n",
        "    def __init__(self, name, age):\n",
        "        self.name = name\n",
        "        self.age = age\n",
        "\n",
        "    def greet(self):\n",
        "        print(f\"Hello, my name is {self.name} and I am {self.age} years old.\")\n",
        "\n",
        "p = Person(\"Rohit\", 22)\n",
        "p.greet()\n"
      ],
      "metadata": {
        "colab": {
          "base_uri": "https://localhost:8080/"
        },
        "id": "4_LdtzUjBDkA",
        "outputId": "e586d80e-6475-4897-9bf5-b7f551f54ca5"
      },
      "execution_count": 28,
      "outputs": [
        {
          "output_type": "stream",
          "name": "stdout",
          "text": [
            "Hello, my name is Rohit and I am 22 years old.\n"
          ]
        }
      ]
    },
    {
      "cell_type": "markdown",
      "source": [
        "12. Implement a class Student with attributes name and grades. Create a method average_grade() to compute\n",
        "the average of the grades."
      ],
      "metadata": {
        "id": "nurapvfXAcgs"
      }
    },
    {
      "cell_type": "code",
      "source": [
        "class Student:\n",
        "    def __init__(self, name, grades):\n",
        "        self.name = name\n",
        "        self.grades = grades\n",
        "\n",
        "    def average_grade(self):\n",
        "        return sum(self.grades) / len(self.grades)\n",
        "\n",
        "s = Student(\"Riya\", [90, 80, 85])\n",
        "print(s.average_grade())\n"
      ],
      "metadata": {
        "colab": {
          "base_uri": "https://localhost:8080/"
        },
        "id": "pLtYUN0gBERl",
        "outputId": "68b7134e-007e-423d-af39-f777410d72f8"
      },
      "execution_count": 27,
      "outputs": [
        {
          "output_type": "stream",
          "name": "stdout",
          "text": [
            "85.0\n"
          ]
        }
      ]
    },
    {
      "cell_type": "markdown",
      "source": [
        "13. Create a class Rectangle with methods set_dimensions() to set the dimensions and area() to calculate the\n",
        "area."
      ],
      "metadata": {
        "id": "h2UL79PaAe7l"
      }
    },
    {
      "cell_type": "code",
      "source": [
        "class Rectangle:\n",
        "    def set_dimensions(self, width, height):\n",
        "        self.width = width\n",
        "        self.height = height\n",
        "\n",
        "    def area(self):\n",
        "        return self.width * self.height\n",
        "\n",
        "r = Rectangle()\n",
        "r.set_dimensions(5, 3)\n",
        "print(r.area())\n"
      ],
      "metadata": {
        "colab": {
          "base_uri": "https://localhost:8080/"
        },
        "id": "XLsDj2CoBFEJ",
        "outputId": "3a2495a6-606b-4724-92f1-c7901ace0b74"
      },
      "execution_count": 26,
      "outputs": [
        {
          "output_type": "stream",
          "name": "stdout",
          "text": [
            "15\n"
          ]
        }
      ]
    },
    {
      "cell_type": "markdown",
      "source": [
        "14. Create a class Employee with a method calculate_salary() that computes the salary based on hours worked\n",
        "and hourly rate. Create a derived class Manager that adds a bonus to the salary."
      ],
      "metadata": {
        "id": "8Q1XxD6rAjq1"
      }
    },
    {
      "cell_type": "code",
      "source": [
        "class Employee:\n",
        "    def calculate_salary(self, hours, rate):\n",
        "        return hours * rate\n",
        "\n",
        "class Manager(Employee):\n",
        "    def calculate_salary(self, hours, rate, bonus):\n",
        "        base_salary = super().calculate_salary(hours, rate)\n",
        "        return base_salary + bonus\n",
        "\n",
        "m = Manager()\n",
        "print(m.calculate_salary(40, 100, 5000))\n"
      ],
      "metadata": {
        "colab": {
          "base_uri": "https://localhost:8080/"
        },
        "id": "GF7cXXe2BFw5",
        "outputId": "c021e54e-3f8d-4e9f-f1ba-4e72ef3aba1d"
      },
      "execution_count": 25,
      "outputs": [
        {
          "output_type": "stream",
          "name": "stdout",
          "text": [
            "9000\n"
          ]
        }
      ]
    },
    {
      "cell_type": "markdown",
      "source": [
        "15. Create a class Product with attributes name, price, and quantity. Implement a method total_price() that\n",
        "calculates the total price of the product."
      ],
      "metadata": {
        "id": "pNmyt4l_AmHp"
      }
    },
    {
      "cell_type": "code",
      "source": [
        "class Product:\n",
        "    def __init__(self, name, price, quantity):\n",
        "        self.name = name\n",
        "        self.price = price\n",
        "        self.quantity = quantity\n",
        "\n",
        "    def total_price(self):\n",
        "        return self.price * self.quantity\n",
        "\n",
        "p = Product(\"Laptop\", 50000, 2)\n",
        "print(p.total_price())\n"
      ],
      "metadata": {
        "colab": {
          "base_uri": "https://localhost:8080/"
        },
        "id": "b99Enpi-A8aa",
        "outputId": "1b4484af-117a-47c5-b4c3-45a6a00bfe31"
      },
      "execution_count": 24,
      "outputs": [
        {
          "output_type": "stream",
          "name": "stdout",
          "text": [
            "100000\n"
          ]
        }
      ]
    },
    {
      "cell_type": "markdown",
      "source": [
        "16. Create a class Animal with an abstract method sound(). Create two derived classes Cow and Sheep that\n",
        "implement the sound() method"
      ],
      "metadata": {
        "id": "0l4m0KTHAoJV"
      }
    },
    {
      "cell_type": "code",
      "source": [
        "from abc import ABC, abstractmethod\n",
        "\n",
        "class Animal(ABC):\n",
        "    @abstractmethod\n",
        "    def sound(self):\n",
        "        pass\n",
        "\n",
        "class Cow(Animal):\n",
        "    def sound(self):\n",
        "        print(\"Moo\")\n",
        "\n",
        "class Sheep(Animal):\n",
        "    def sound(self):\n",
        "        print(\"Baa\")\n",
        "\n",
        "Cow().sound()\n",
        "Sheep().sound()\n"
      ],
      "metadata": {
        "colab": {
          "base_uri": "https://localhost:8080/"
        },
        "id": "6-HrtJAdA76W",
        "outputId": "68a6bcd5-0243-47a8-bc9a-20e643d0d24a"
      },
      "execution_count": 23,
      "outputs": [
        {
          "output_type": "stream",
          "name": "stdout",
          "text": [
            "Moo\n",
            "Baa\n"
          ]
        }
      ]
    },
    {
      "cell_type": "markdown",
      "source": [
        "17. Create a class Book with attributes title, author, and year_published. Add a method get_book_info() that\n",
        "returns a formatted string with the book's details."
      ],
      "metadata": {
        "id": "YgA1SWASAzuQ"
      }
    },
    {
      "cell_type": "code",
      "source": [
        "class Book:\n",
        "    def __init__(self, title, author, year_published):\n",
        "        self.title = title\n",
        "        self.author = author\n",
        "        self.year_published = year_published\n",
        "\n",
        "    def get_book_info(self):\n",
        "        return f\"{self.title} by {self.author}, published in {self.year_published}\"\n",
        "\n",
        "b = Book(\"1984\", \"George Orwell\", 1949)\n",
        "print(b.get_book_info())\n"
      ],
      "metadata": {
        "colab": {
          "base_uri": "https://localhost:8080/"
        },
        "id": "ZRuXPLXnA7dx",
        "outputId": "ba7701a4-2af7-4879-be2e-0f4d29dd145c"
      },
      "execution_count": 22,
      "outputs": [
        {
          "output_type": "stream",
          "name": "stdout",
          "text": [
            "1984 by George Orwell, published in 1949\n"
          ]
        }
      ]
    },
    {
      "cell_type": "markdown",
      "source": [
        "18. Create a class House with attributes address and price. Create a derived class Mansion that adds an\n",
        "attribute number_of_rooms."
      ],
      "metadata": {
        "id": "h_-v_p2yA3SM"
      }
    },
    {
      "cell_type": "code",
      "source": [
        "class House:\n",
        "    def __init__(self, address, price):\n",
        "        self.address = address\n",
        "        self.price = price\n",
        "\n",
        "class Mansion(House):\n",
        "    def __init__(self, address, price, number_of_rooms):\n",
        "        super().__init__(address, price)\n",
        "        self.number_of_rooms = number_of_rooms\n",
        "\n",
        "m = Mansion(\"123 Rich Street\", 10000000, 12)\n",
        "print(m.address, m.price, m.number_of_rooms)\n"
      ],
      "metadata": {
        "colab": {
          "base_uri": "https://localhost:8080/"
        },
        "id": "of2Tn8u3A6p2",
        "outputId": "0b5d40bb-7324-4e0d-c241-2ec1de1f6a4d"
      },
      "execution_count": 21,
      "outputs": [
        {
          "output_type": "stream",
          "name": "stdout",
          "text": [
            "123 Rich Street 10000000 12\n"
          ]
        }
      ]
    }
  ],
  "metadata": {
    "colab": {
      "name": "Welcome To Colab",
      "toc_visible": true,
      "provenance": []
    },
    "kernelspec": {
      "display_name": "Python 3",
      "name": "python3"
    }
  },
  "nbformat": 4,
  "nbformat_minor": 0
}